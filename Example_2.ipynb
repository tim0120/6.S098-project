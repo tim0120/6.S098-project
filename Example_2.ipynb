{
 "cells": [
  {
   "cell_type": "code",
   "execution_count": 1,
   "id": "2f630411",
   "metadata": {},
   "outputs": [
    {
     "name": "stderr",
     "output_type": "stream",
     "text": [
      "\u001b[32m\u001b[1m  Activating\u001b[22m\u001b[39m new project at `~/Dropbox (MIT)/IAP22/6.S098-project`\n"
     ]
    }
   ],
   "source": [
    "using Pkg; Pkg.activate(\".\");\n",
    "using Convex\n",
    "using SCS"
   ]
  },
  {
   "cell_type": "code",
   "execution_count": 2,
   "id": "35440440",
   "metadata": {},
   "outputs": [],
   "source": [
    "class_numbers = Dict(\"6.006\"=>1, \"6.042\"=>2, \"6.009\"=>3, \"6.046\"=>4, \"6.031\"=>5, \"18.600\"=>6, \"6.041\"=>7,\n",
    "\"6.008\"=>8, \"comp_bio\"=>9, \"NLP\"=>10, \"comp_vision\"=>11, \"graphics\"=>12, \"optimization\"=>13, \n",
    "    \"script_analysis\"=>14, \"intro_to_acting\"=>15, \"psych\"=>16)\n",
    "\n",
    "taken = [1 1 1 0 0 1 0 0 0 0 0 0 0 0 0 1]\n",
    "\n",
    "requirements = [\n",
    "  ([1], 1),\n",
    "  ([2], 1),\n",
    "  ([3], 1),\n",
    "  ([4], 1),\n",
    "  ([5], 1),\n",
    "  ([6, 7, 8], 1),\n",
    "  ([9, 10, 11, 12, 13], 2),\n",
    "  ([14, 15, 16], 2)\n",
    "];"
   ]
  },
  {
   "cell_type": "code",
   "execution_count": 3,
   "id": "71d02638",
   "metadata": {},
   "outputs": [
    {
     "data": {
      "text/plain": [
       "5-element Vector{Any}:\n",
       " ([4], 1)\n",
       " ([5], 1)\n",
       " ([7, 8], 0)\n",
       " ([9, 10, 11, 12, 13], 2)\n",
       " ([14, 15], 1)"
      ]
     },
     "metadata": {},
     "output_type": "display_data"
    }
   ],
   "source": [
    "remaining_requirements = []\n",
    "\n",
    "for (classes, req) in requirements\n",
    "  classes_left::Array{Int64} = []\n",
    "  for class in classes\n",
    "    if taken[class] == 1\n",
    "      req = max(req - 1, 0)\n",
    "      classes_left\n",
    "    else\n",
    "      push!(classes_left, class)\n",
    "    end\n",
    "  end\n",
    "  if length(classes_left) > 0\n",
    "    push!(remaining_requirements, (classes_left, req))\n",
    "  end\n",
    "end\n",
    "\n",
    "remaining_requirements"
   ]
  },
  {
   "cell_type": "code",
   "execution_count": 4,
   "id": "9dbc84b6",
   "metadata": {},
   "outputs": [
    {
     "data": {
      "text/plain": [
       "Dict{Any, Any} with 16 entries:\n",
       "  5  => \"6.031\"\n",
       "  16 => \"psych\"\n",
       "  12 => \"graphics\"\n",
       "  8  => \"6.008\"\n",
       "  1  => \"6.006\"\n",
       "  6  => \"18.600\"\n",
       "  11 => \"comp_vision\"\n",
       "  9  => \"comp_bio\"\n",
       "  14 => \"script_analysis\"\n",
       "  3  => \"6.009\"\n",
       "  7  => \"6.041\"\n",
       "  13 => \"optimization\"\n",
       "  15 => \"intro_to_acting\"\n",
       "  4  => \"6.046\"\n",
       "  2  => \"6.042\"\n",
       "  10 => \"NLP\""
      ]
     },
     "metadata": {},
     "output_type": "display_data"
    }
   ],
   "source": [
    "class_names = Dict()\n",
    "for (name, num) in class_numbers\n",
    "  class_names[num] = name\n",
    "end\n",
    "class_names"
   ]
  },
  {
   "cell_type": "code",
   "execution_count": 5,
   "id": "654b7ece",
   "metadata": {},
   "outputs": [
    {
     "data": {
      "text/plain": [
       "Variable\n",
       "size: (16, 1)\n",
       "sign: real\n",
       "vexity: affine\n",
       "id: 803…175"
      ]
     },
     "metadata": {},
     "output_type": "display_data"
    }
   ],
   "source": [
    "num_classes = length(class_names)\n",
    "choices = Variable(num_classes)"
   ]
  },
  {
   "cell_type": "code",
   "execution_count": 6,
   "id": "87bf514a",
   "metadata": {},
   "outputs": [],
   "source": [
    "ratings = [\n",
    "  1,\n",
    "  0,\n",
    "  0.5,\n",
    "  0.25,\n",
    "  0.01,\n",
    "  1,\n",
    "  0,\n",
    "  0,\n",
    "  1,\n",
    "  0.5,\n",
    "  0.49,\n",
    "  0,\n",
    "  0,\n",
    "  1,\n",
    "  0,\n",
    "  0\n",
    "];"
   ]
  },
  {
   "cell_type": "code",
   "execution_count": 7,
   "id": "982b7d63",
   "metadata": {},
   "outputs": [
    {
     "data": {
      "text/plain": [
       "+ (affine; real)\n",
       "├─ * (affine; real)\n",
       "│  ├─ 1×16 adjoint(::Vector{Float64}) with eltype Float64\n",
       "│  └─ 16-element real variable (id: 803…175)\n",
       "└─ * (affine; real)\n",
       "   ├─ 1×16 adjoint(::Vector{Float64}) with eltype Float64\n",
       "   └─ 16-element real variable (id: 803…175)"
      ]
     },
     "metadata": {},
     "output_type": "display_data"
    }
   ],
   "source": [
    "# general 1 unit per class\n",
    "class_units = ones(num_classes)\n",
    "obj = -1 * ratings'*choices + class_units'*choices"
   ]
  },
  {
   "cell_type": "code",
   "execution_count": 8,
   "id": "abcdc249",
   "metadata": {},
   "outputs": [
    {
     "data": {
      "text/plain": [
       "14-element Vector{Constraint}:\n",
       " >= constraint (affine)\n",
       "├─ 16-element real variable (id: 803…175)\n",
       "└─ 0\n",
       " <= constraint (affine)\n",
       "├─ 16-element real variable (id: 803…175)\n",
       "└─ 1\n",
       " <= constraint (affine)\n",
       "├─ sum (affine; real)\n",
       "│  └─ 16-element real variable (id: 803…175)\n",
       "└─ 6\n",
       " >= constraint (affine)\n",
       "├─ sum (affine; real)\n",
       "│  └─ 16-element real variable (id: 803…175)\n",
       "└─ 2\n",
       " == constraint (affine)\n",
       "├─ index (affine; real)\n",
       "│  └─ 16-element real variable (id: 803…175)\n",
       "└─ 0\n",
       " == constraint (affine)\n",
       "├─ index (affine; real)\n",
       "│  └─ 16-element real variable (id: 803…175)\n",
       "└─ 0\n",
       " == constraint (affine)\n",
       "├─ index (affine; real)\n",
       "│  └─ 16-element real variable (id: 803…175)\n",
       "└─ 0\n",
       " == constraint (affine)\n",
       "├─ index (affine; real)\n",
       "│  └─ 16-element real variable (id: 803…175)\n",
       "└─ 0\n",
       " == constraint (affine)\n",
       "├─ index (affine; real)\n",
       "│  └─ 16-element real variable (id: 803…175)\n",
       "└─ 0\n",
       " >= constraint (affine)\n",
       "├─ index (affine; real)\n",
       "│  └─ 16-element real variable (id: 803…175)\n",
       "└─ 1\n",
       " >= constraint (affine)\n",
       "├─ index (affine; real)\n",
       "│  └─ 16-element real variable (id: 803…175)\n",
       "└─ 1\n",
       " >= constraint (affine)\n",
       "├─ + (affine; real)\n",
       "│  ├─ index (affine; real)\n",
       "│  │  └─ 16-element real variable (id: 803…175)\n",
       "│  └─ index (affine; real)\n",
       "│     └─ 16-element real variable (id: 803…175)\n",
       "└─ 0\n",
       " >= constraint (affine)\n",
       "├─ + (affine; real)\n",
       "│  ├─ index (affine; real)\n",
       "│  │  └─ 16-element real variable (id: 803…175)\n",
       "│  ├─ index (affine; real)\n",
       "│  │  └─ 16-element real variable (id: 803…175)\n",
       "│  ├─ index (affine; real)\n",
       "│  │  └─ 16-element real variable (id: 803…175)\n",
       "│  ├─ index (affine; real)\n",
       "│  │  └─ 16-element real variable (id: 803…175)\n",
       "│  └─ index (affine; real)\n",
       "│     └─ 16-element real variable (id: 803…175)\n",
       "└─ 2\n",
       " >= constraint (affine)\n",
       "├─ + (affine; real)\n",
       "│  ├─ index (affine; real)\n",
       "│  │  └─ 16-element real variable (id: 803…175)\n",
       "│  └─ index (affine; real)\n",
       "│     └─ 16-element real variable (id: 803…175)\n",
       "└─ 1"
      ]
     },
     "metadata": {},
     "output_type": "display_data"
    }
   ],
   "source": [
    "# max units allowed (set arbitrarily)\n",
    "max_units = sum([j for (i, j) in remaining_requirements]) + 1\n",
    "min_units = 2\n",
    "\n",
    "consts = [\n",
    "  #relaxation of binary choice\n",
    "  choices >= 0,\n",
    "  choices <= 1,\n",
    "  # max units\n",
    "  sum(choices) <= max_units,\n",
    "  # min units\n",
    "  sum(choices) >= min_units,\n",
    "]\n",
    "\n",
    "# classes already taken cannot be taken again\n",
    "for (class, done) in enumerate(taken)\n",
    "  if done == 1\n",
    "    consts += choices[class] == 0\n",
    "  end\n",
    "end\n",
    "\n",
    "# remaining class requirements\n",
    "for (classes, req) in remaining_requirements\n",
    "  req_choices = sum(choices[class] for class in classes)\n",
    "  consts += req_choices >= req\n",
    "end\n",
    "\n",
    "consts"
   ]
  },
  {
   "cell_type": "code",
   "execution_count": 9,
   "id": "f77792fc",
   "metadata": {},
   "outputs": [
    {
     "name": "stdout",
     "output_type": "stream",
     "text": [
      "------------------------------------------------------------------\n",
      "\t       SCS v3.2.1 - Splitting Conic Solver\n",
      "\t(c) Brendan O'Donoghue, Stanford University, 2012\n",
      "------------------------------------------------------------------\n",
      "problem:  variables n: 17, constraints m: 45\n",
      "cones: \t  z: primal zero / dual free vars: 6\n",
      "\t  l: linear vars: 39\n",
      "settings: eps_abs: 1.0e-04, eps_rel: 1.0e-04, eps_infeas: 1.0e-07\n",
      "\t  alpha: 1.50, scale: 1.00e-01, adaptive_scale: 1\n",
      "\t  max_iters: 100000, normalize: 1, rho_x: 1.00e-06\n",
      "\t  acceleration_lookback: 10, acceleration_interval: 10\n",
      "lin-sys:  sparse-direct-amd-qdldl\n",
      "\t  nnz(A): 93, nnz(P): 0\n",
      "------------------------------------------------------------------\n",
      " iter | pri res | dua res |   gap   |   obj   |  scale  | time (s)\n",
      "------------------------------------------------------------------\n",
      "     0| 1.04e+01  1.16e+00  2.17e+01 -9.78e+00  1.00e-01  1.08e-03 \n",
      "    50| 6.33e-04  1.62e-04  3.24e-04  2.24e+00  1.00e-01  1.13e-03 \n",
      "------------------------------------------------------------------\n",
      "status:  solved\n",
      "timings: total: 1.13e-03s = setup: 1.07e-03s + solve: 6.69e-05s\n",
      "\t lin-sys: 2.54e-05s, cones: 3.22e-06s, accel: 1.46e-06s\n",
      "------------------------------------------------------------------\n",
      "objective = 2.240888\n",
      "------------------------------------------------------------------\n"
     ]
    }
   ],
   "source": [
    "problem = minimize(obj, consts)\n",
    "solve!(problem, SCS.Optimizer())"
   ]
  },
  {
   "cell_type": "code",
   "execution_count": 10,
   "id": "4a1f6302",
   "metadata": {},
   "outputs": [
    {
     "data": {
      "text/plain": [
       "16×1 Matrix{Int64}:\n",
       " 1\n",
       " 1\n",
       " 1\n",
       " 1\n",
       " 1\n",
       " 1\n",
       " 0\n",
       " 0\n",
       " 1\n",
       " 1\n",
       " 0\n",
       " 0\n",
       " 0\n",
       " 1\n",
       " 0\n",
       " 1"
      ]
     },
     "metadata": {},
     "output_type": "display_data"
    }
   ],
   "source": [
    "choices = Int.(round.(choices.value, digits=1)) + taken'"
   ]
  },
  {
   "cell_type": "code",
   "execution_count": 11,
   "id": "e20f730d",
   "metadata": {},
   "outputs": [
    {
     "data": {
      "text/plain": [
       "5-element Vector{String}:\n",
       " \"6.006\"\n",
       " \"6.042\"\n",
       " \"6.009\"\n",
       " \"18.600\"\n",
       " \"psych\""
      ]
     },
     "metadata": {},
     "output_type": "display_data"
    }
   ],
   "source": [
    "taken_args = [i[2] for i in findall(x->x==1, taken)]\n",
    "taken_names = [class_names[num] for num in taken_args]"
   ]
  },
  {
   "cell_type": "code",
   "execution_count": 12,
   "id": "cf4969c2",
   "metadata": {},
   "outputs": [
    {
     "data": {
      "text/plain": [
       "8-element Vector{Tuple{Vector{Tuple{String, Float64}}, Int64}}:\n",
       " ([(\"6.006\", 1.0)], 1)\n",
       " ([(\"6.042\", 0.0)], 1)\n",
       " ([(\"6.009\", 0.5)], 1)\n",
       " ([(\"6.046\", 0.25)], 1)\n",
       " ([(\"6.031\", 0.01)], 1)\n",
       " ([(\"18.600\", 1.0), (\"6.041\", 0.0), (\"6.008\", 0.0)], 1)\n",
       " ([(\"comp_bio\", 1.0), (\"NLP\", 0.5), (\"comp_vision\", 0.49), (\"graphics\", 0.0), (\"optimization\", 0.0)], 2)\n",
       " ([(\"script_analysis\", 1.0), (\"intro_to_acting\", 0.0), (\"psych\", 0.0)], 2)"
      ]
     },
     "metadata": {},
     "output_type": "display_data"
    }
   ],
   "source": [
    "req_names = [([(class_names[i], ratings[i]) for i in classes], req) for (classes, req) in requirements]"
   ]
  },
  {
   "cell_type": "code",
   "execution_count": 13,
   "id": "eb98f576",
   "metadata": {},
   "outputs": [
    {
     "data": {
      "text/plain": [
       "10-element Vector{Any}:\n",
       " \"6.006\"\n",
       " \"6.042\"\n",
       " \"6.009\"\n",
       " \"6.046\"\n",
       " \"6.031\"\n",
       " \"18.600\"\n",
       " \"comp_bio\"\n",
       " \"NLP\"\n",
       " \"script_analysis\"\n",
       " \"psych\""
      ]
     },
     "metadata": {},
     "output_type": "display_data"
    }
   ],
   "source": [
    "chosen = []\n",
    "for (num, choice) in enumerate(choices)\n",
    "  if choice == 1\n",
    "    push!(chosen, class_names[num])\n",
    "  end\n",
    "end\n",
    "chosen"
   ]
  },
  {
   "cell_type": "markdown",
   "id": "c27d06fb",
   "metadata": {},
   "source": [
    "### 6-4 Class Scheduling"
   ]
  },
  {
   "cell_type": "code",
   "execution_count": 2,
   "id": "2c10a2ea",
   "metadata": {},
   "outputs": [],
   "source": [
    "class_numbers = Dict(\"6.100A\"=>1, \"6.100L\"=>2, \"6.042\"=>3, \"18.06\"=>4, \"18.C06\"=>5, \"6.3700\"=>6, \"6.3800\"=>7, \"18.05\"=>8, \"6.009\"=>9, \"6.006\"=>10, \"6.3720\"=>11, \"6.3900\"=>12, \"6.3000\"=>13, \"6.4110\"=>14, \"6.4400\"=>15, \"6.3100\"=>16, \"6.7201\"=>17, \"6.1220\" => 18, \"6.3950\"=>19, \"6.4590\"=>20, \"6.4120\"=>21, \"6.C35\"=>22, \"18.404\"=>23, \"6.3730\"=>24, \"6.5151\"=>25, \"6.5831\" => 26, \"6.8701\"=>27, \"6.4200\"=>28, \"6.4860\"=>29, \"6.8301\"=>30, \"6.8611\"=>31, \"6.8371\"=>32, \"6.1800\"=>33, \"6.4210\"=>34, \"8.01\"=>35, \"8.02\"=>36, \"18.01\"=>37, \"18.02\"=>38, \"7.012\" =>39, \"3.091\"=>40);"
   ]
  },
  {
   "cell_type": "code",
   "execution_count": 3,
   "id": "f5709c86",
   "metadata": {},
   "outputs": [],
   "source": [
    "requirements = [([1, 2], 1), ([3], 1), ([4, 5], 1), ([6, 7, 8], 1), ([9], 1), ([10], 1), ([11, 12], 1), ([13, 14, 15], 1), ( [16, 14, 17], 1), ([18, 17, 15], 1), ([13, 14, 15], 1), ([19, 20, 21, 22], 1), ([11, 12, 13, 14, 15, 16, 17, 18, 19, 20, 21, 22], 5), ([23, 24, 25, 26, 27, 32], 2), ([28, 29, 30, 31, 33, 34], 1), ([35, 36 ,37, 38, 39, 40], 6)];"
   ]
  },
  {
   "cell_type": "code",
   "execution_count": 4,
   "id": "b0c5615a",
   "metadata": {},
   "outputs": [],
   "source": [
    "ratings = [(0.01674107358514243, \"6.4400\"), (0.20625928189455645, \"6.8371\"), (0.22411918043819912, \"6.1800\"), (0.3720293803566581, \"6.4860\"), (1.1037562563817414, \"6.5151\"), (1.1391108491597546, \"6.100A\"), (1.2440241764393214, \"6.5831\"), (1.3927481839669749, \"6.100L\"), (1.8166770823918532, \"18.02\"), (2.130709542446836, \"7.012\"), (2.3487402422339105, \"6.7201\"), (2.473889451047344, \"6.4210\"), (2.614809345119018, \"6.3000\"), (2.64619846706188, \"6.3800\"), (2.7072060642300233, \"6.4590\"), (2.776022604987598, \"6.4120\"), (2.976904834376327, \"6.3700\"), (3.2668225160548845, \"8.02\"), (3.2994078409056566, \"6.8701\"), (3.3831403878557094, \"6.8611\"), (3.5814077129516733, \"6.1220\"), (3.770363367737921, \"6.3950\"), (4.003959870502843, \"6.8301\"), (4.434791516169647, \"6.3100\"), (4.541245269717419, \"6.C35\"), (4.802106023194701, \"6.3730\"), (5.173419086011188, \"8.01\"), (5.470904504057465, \"6.042\"), (5.488696411402272, \"18.06\"), (5.821081979940469, \"6.009\"), (5.884020141684222, \"6.4110\"), (6.0349305282232795, \"18.C06\"), (6.209625795839438, \"6.006\"), (6.296384800653085, \"18.05\"), (6.321692746061686, \"6.3900\"), (6.336657643960599, \"18.404\"), (6.534235424395592, \"6.3720\"), (6.776456731707294, \"18.01\"), (6.883832570062196, \"6.4200\"), (6.996415633409068, \"3.091\")];"
   ]
  },
  {
   "cell_type": "code",
   "execution_count": 5,
   "id": "d41203f5",
   "metadata": {},
   "outputs": [],
   "source": [
    "times = [ (7.134249394233765, \"6.5831\"), (7.396059338516257, \"6.4200\"), (7.453847077624196, \"6.4400\"), (7.566455957170015, \"6.100A\"), (7.629599059188994, \"6.4860\"), (7.720090482611781, \"6.3720\"), (7.9027807886952015, \"6.042\"), (7.988289786870112, \"6.8301\"), (8.063216782709574, \"6.1220\"), (8.360355423630764, \"6.5151\"), (8.361240238143546, \"6.7201\"), (8.488635039417355, \"18.06\"), (8.541341885245481, \"6.3900\"), (8.724423998523866, \"6.4210\"), (9.286618824654433, \"6.3000\"), (9.395426143424102, \"6.3800\"), (9.79495084702973, \"6.1800\"), (9.826000265111922, \"6.4110\"), (9.925436963128544, \"6.006\"), (9.972179587490789, \"6.009\"), (10.046789284566916, \"6.C35\"), (10.340590565214246, \"18.05\"), (10.732325505245441, \"3.091\"), (11.311122268822817, \"6.3700\"), (11.433944186599682, \"18.01\"), (11.554575740671433, \"7.012\"), (11.55574881456855, \"6.4590\"), (11.794572657409711, \"8.02\"), (11.839478356831748, \"18.02\"), (12.028994228824299, \"6.8611\"), (12.571159178011918, \"6.8371\"), (12.575191723569695, \"18.C06\"), (12.950073111878748, \"6.3730\"), (12.952488499710569, \"6.3950\"), (13.101491873044838, \"18.404\"), (13.206054155678526, \"6.3100\"), (13.54352553482211,\"6.4120\"), (13.736593326114928,\"6.8701\"), (13.778108052922672, \"8.01\"), (13.814044135950908, \"6.100L\")];"
   ]
  },
  {
   "cell_type": "code",
   "execution_count": 6,
   "id": "dc65686d",
   "metadata": {},
   "outputs": [],
   "source": [
    "class_names = Dict()\n",
    "for (name, number) in class_numbers\n",
    "  class_names[number] = name\n",
    "end"
   ]
  },
  {
   "cell_type": "code",
   "execution_count": 7,
   "id": "620e85d2",
   "metadata": {},
   "outputs": [],
   "source": [
    "ratings_dict = Dict()\n",
    "for (rating, class_name) in ratings\n",
    "  ratings_dict[class_numbers[class_name]] = rating\n",
    "end\n",
    "ratings_vec = []\n",
    "for i in 1:length(ratings_dict)\n",
    "  push!(ratings_vec, ratings_dict[i])\n",
    "end"
   ]
  },
  {
   "cell_type": "code",
   "execution_count": 8,
   "id": "1d7372d9",
   "metadata": {},
   "outputs": [],
   "source": [
    "times_dict = Dict()\n",
    "for (time, class_name) in times\n",
    "  times_dict[class_numbers[class_name]] = time\n",
    "end\n",
    "times_vec = []\n",
    "for i in 1:length(class_numbers)\n",
    "  push!(times_vec, times_dict[i])\n",
    "end"
   ]
  },
  {
   "cell_type": "code",
   "execution_count": 159,
   "id": "b157bf50",
   "metadata": {},
   "outputs": [
    {
     "data": {
      "text/plain": [
       "schedule_optimizer (generic function with 1 method)"
      ]
     },
     "metadata": {},
     "output_type": "display_data"
    }
   ],
   "source": [
    "function schedule_optimizer(taken, mu)\n",
    "  n = length(class_numbers)\n",
    "  choices = Variable(n) \n",
    "\n",
    "  remaining_requirements = []\n",
    "  for (classes, req) in requirements\n",
    "    classes_left::Array{Int64} = []\n",
    "    for class in classes\n",
    "      if taken[class] == 1\n",
    "        req = max(req - 1, 0)\n",
    "        classes_left\n",
    "      else\n",
    "        push!(classes_left, class)\n",
    "      end\n",
    "    end\n",
    "    if length(classes_left) > 0\n",
    "      push!(remaining_requirements, (classes_left, req))\n",
    "    end\n",
    "  end\n",
    "\n",
    "  average_hours = sum(times_vec) / length(times_vec)\n",
    "  max_hours = 8 * 5 * average_hours\n",
    "  min_hours = 2 * average_hours\n",
    "\n",
    "  total_hours = sum([times_vec[i] * choices[i] for i in 1:n])\n",
    "  \n",
    "  consts = [\n",
    "    #relaxation of binary choice\n",
    "    choices >= 0,\n",
    "    choices <= 1,\n",
    "    # max units\n",
    "    total_hours <= max_hours,\n",
    "    # min units\n",
    "    total_hours >= min_hours\n",
    "  ]\n",
    "\n",
    "  # classes already taken cannot be taken again\n",
    "  for (class, done) in enumerate(taken)\n",
    "    if done == 1\n",
    "      consts += choices[class] == 0\n",
    "    end\n",
    "  end\n",
    "\n",
    "  # remaining class requirements\n",
    "  for (classes, req) in remaining_requirements\n",
    "    req_choices = sum(choices[class] for class in classes)\n",
    "    consts += req_choices >= req\n",
    "  end\n",
    "\n",
    "  obj = -1 * sum([ratings_vec[i]*choices[i] for i in 1:n]) + mu * times_vec'*choices\n",
    "  \n",
    "  problem = minimize(obj, consts)\n",
    "  solve!(problem, SCS.Optimizer())\n",
    "\n",
    "  schedule = Int.(round.(choices.value, digits=1))\n",
    "  total_time = round((times_vec'*schedule)[1], digits=1)\n",
    "  schedule_rating = round((ratings_vec'*schedule / sum(schedule))[1], digits=3)\n",
    "\n",
    "  chosen = []\n",
    "  for (num, choice) in enumerate(schedule)\n",
    "    if choice == 1\n",
    "      push!(chosen, class_names[num])\n",
    "    end\n",
    "  end\n",
    "\n",
    "  print(\"Classes: $chosen\\n\")\n",
    "  print(\"Total time: $total_time hours\\n\")\n",
    "  print(\"Rating: $schedule_rating / 7.0\\n\")\n",
    "\n",
    "  return schedule_rating, total_time\n",
    "end"
   ]
  },
  {
   "cell_type": "code",
   "execution_count": 160,
   "id": "df51081a",
   "metadata": {},
   "outputs": [
    {
     "ename": "MethodError",
     "evalue": "MethodError: no method matching /(::Convex.MultiplyAtom, ::Convex.SumAtom)\nClosest candidates are:\n  /(!Matched::Union{MathOptInterface.ScalarAffineFunction{T}, MathOptInterface.ScalarQuadraticFunction{T}, MathOptInterface.VectorAffineFunction{T}, MathOptInterface.VectorQuadraticFunction{T}}, ::T) where T at ~/.julia/packages/MathOptInterface/o3YPB/src/Utilities/functions.jl:2593\n  /(!Matched::Union{Number, AbstractArray}, ::Convex.AbstractExpr) at ~/.julia/packages/Convex/ukggP/src/atoms/second_order_cone/qol_elementwise.jl:61\n  /(!Matched::ChainRulesCore.AbstractThunk, ::Any) at ~/.julia/packages/ChainRulesCore/C73ay/src/tangent_types/thunks.jl:37\n  ...",
     "output_type": "error",
     "traceback": [
      "MethodError: no method matching /(::Convex.MultiplyAtom, ::Convex.SumAtom)\n",
      "Closest candidates are:\n",
      "  /(!Matched::Union{MathOptInterface.ScalarAffineFunction{T}, MathOptInterface.ScalarQuadraticFunction{T}, MathOptInterface.VectorAffineFunction{T}, MathOptInterface.VectorQuadraticFunction{T}}, ::T) where T at ~/.julia/packages/MathOptInterface/o3YPB/src/Utilities/functions.jl:2593\n",
      "  /(!Matched::Union{Number, AbstractArray}, ::Convex.AbstractExpr) at ~/.julia/packages/Convex/ukggP/src/atoms/second_order_cone/qol_elementwise.jl:61\n",
      "  /(!Matched::ChainRulesCore.AbstractThunk, ::Any) at ~/.julia/packages/ChainRulesCore/C73ay/src/tangent_types/thunks.jl:37\n",
      "  ...\n",
      "\n",
      "Stacktrace:\n",
      " [1] schedule_optimizer(taken::Vector{Float64}, mu::Float64)\n",
      "   @ Main ~/Dropbox (MIT)/IAP22/6.S098-project/Example_2.ipynb:50\n",
      " [2] top-level scope\n",
      "   @ ~/Dropbox (MIT)/IAP22/6.S098-project/Example_2.ipynb:2"
     ]
    }
   ],
   "source": [
    "n = length(class_numbers)\n",
    "schedule_optimizer(zeros(n), 0.1)"
   ]
  },
  {
   "cell_type": "code",
   "execution_count": 156,
   "id": "2744bac2",
   "metadata": {},
   "outputs": [],
   "source": [
    "avg_ratings = []\n",
    "avg_times = []\n",
    "mu_min = 0\n",
    "mu_max = 10\n",
    "mu_range = mu_min:0.1:mu_max\n",
    "for i in mu_range\n",
    "  r, t = schedule_optimizer(zeros(n), i)\n",
    "  push!(avg_ratings, r)\n",
    "  push!(avg_times, t)\n",
    "end"
   ]
  },
  {
   "cell_type": "code",
   "execution_count": 157,
   "id": "dc91149b",
   "metadata": {},
   "outputs": [],
   "source": [
    "Pkg.add(\"Plots\"); using Plots;"
   ]
  },
  {
   "cell_type": "code",
   "execution_count": 158,
   "id": "ec3d683c",
   "metadata": {},
   "outputs": [
    {
     "data": {
      "text/plain": [
       "\"/Users/timkostolansky/Dropbox (MIT)/IAP22/6.S098-project/ratings-and-times.svg\""
      ]
     },
     "metadata": {},
     "output_type": "display_data"
    }
   ],
   "source": [
    "ar = plot(mu_range, avg_ratings, xticks=mu_min:1:mu_max, label=\"Ratings\", ylabel=\"Average Rating (out of 7)\")\n",
    "at = plot(mu_range, avg_times, xticks=mu_min:1:mu_max, label=\"Times\", ylabel=\"Average Time Spent\")\n",
    "plot(ar, at, layout=(1, 2), xlabel=\"μ\", fmt=:svg)\n",
    "savefig(\"ratings-and-times.svg\")"
   ]
  }
 ],
 "metadata": {
  "@webio": {
   "lastCommId": null,
   "lastKernelId": null
  },
  "kernelspec": {
   "display_name": "Julia 1.8.2",
   "language": "julia",
   "name": "julia-1.8"
  },
  "language_info": {
   "file_extension": ".jl",
   "mimetype": "application/julia",
   "name": "julia",
   "version": "1.8.2"
  },
  "vscode": {
   "interpreter": {
    "hash": "c5aa85ade289060635948af45a9905824f20b38e55a194f2ec4c4982c704c885"
   }
  }
 },
 "nbformat": 4,
 "nbformat_minor": 5
}
