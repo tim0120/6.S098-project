{
 "cells": [
  {
   "cell_type": "code",
   "execution_count": 1,
   "id": "2f630411",
   "metadata": {},
   "outputs": [
    {
     "name": "stderr",
     "output_type": "stream",
     "text": [
      "\u001b[32m\u001b[1m  Activating\u001b[22m\u001b[39m new project at `~/Dropbox (MIT)/IAP22/6.S098-project`\n"
     ]
    }
   ],
   "source": [
    "using Pkg; Pkg.activate(\".\");\n",
    "using Convex\n",
    "using SCS"
   ]
  },
  {
   "cell_type": "code",
   "execution_count": 41,
   "id": "35440440",
   "metadata": {},
   "outputs": [],
   "source": [
    "class_numbers = Dict(\"6.006\"=>1, \"6.042\"=>2, \"6.009\"=>3, \"6.046\"=>4, \"6.031\"=>5, \"18.600\"=>6, \"6.041\"=>7,\n",
    "\"6.008\"=>8, \"comp_bio\"=>9, \"NLP\"=>10, \"comp_vision\"=>11, \"graphics\"=>12, \"optimization\"=>13, \n",
    "    \"script_analysis\"=>14, \"intro_to_acting\"=>15, \"psych\"=>16)\n",
    "\n",
    "taken = [1 1 1 0 0 1 0 0 0 0 0 1 0 0 0 1]\n",
    "\n",
    "requirements = [\n",
    "  ([1], 1),\n",
    "  ([2], 1),\n",
    "  ([3], 1),\n",
    "  ([4], 1),\n",
    "  ([5], 1),\n",
    "  ([6, 7, 8], 1),\n",
    "  ([9, 10, 11, 12, 13], 2),\n",
    "  ([14, 15, 16], 2)\n",
    "];"
   ]
  },
  {
   "cell_type": "code",
   "execution_count": 42,
   "id": "71d02638",
   "metadata": {},
   "outputs": [
    {
     "data": {
      "text/plain": [
       "5-element Vector{Any}:\n",
       " ([4], 1)\n",
       " ([5], 1)\n",
       " ([7, 8], 0)\n",
       " ([9, 10, 11, 13], 1)\n",
       " ([14, 15], 1)"
      ]
     },
     "metadata": {},
     "output_type": "display_data"
    }
   ],
   "source": [
    "remaining_requirements = []\n",
    "\n",
    "for (classes, req) in requirements\n",
    "  classes_left::Array{Int64} = []\n",
    "  for class in classes\n",
    "    if taken[class] == 1\n",
    "      req = max(req - 1, 0)\n",
    "      classes_left\n",
    "    else\n",
    "      push!(classes_left, class)\n",
    "    end\n",
    "  end\n",
    "  if length(classes_left) > 0\n",
    "    push!(remaining_requirements, (classes_left, req))\n",
    "  end\n",
    "end\n",
    "\n",
    "remaining_requirements"
   ]
  },
  {
   "cell_type": "code",
   "execution_count": 43,
   "id": "9dbc84b6",
   "metadata": {},
   "outputs": [
    {
     "data": {
      "text/plain": [
       "Dict{Any, Any} with 16 entries:\n",
       "  5  => \"6.031\"\n",
       "  16 => \"psych\"\n",
       "  12 => \"graphics\"\n",
       "  8  => \"6.008\"\n",
       "  1  => \"6.006\"\n",
       "  6  => \"18.600\"\n",
       "  11 => \"comp_vision\"\n",
       "  9  => \"comp_bio\"\n",
       "  14 => \"script_analysis\"\n",
       "  3  => \"6.009\"\n",
       "  7  => \"6.041\"\n",
       "  13 => \"optimization\"\n",
       "  15 => \"intro_to_acting\"\n",
       "  4  => \"6.046\"\n",
       "  2  => \"6.042\"\n",
       "  10 => \"NLP\""
      ]
     },
     "metadata": {},
     "output_type": "display_data"
    }
   ],
   "source": [
    "class_names = Dict()\n",
    "for (name, num) in class_numbers\n",
    "  class_names[num] = name\n",
    "end\n",
    "class_names"
   ]
  },
  {
   "cell_type": "code",
   "execution_count": 44,
   "id": "654b7ece",
   "metadata": {},
   "outputs": [
    {
     "data": {
      "text/plain": [
       "Variable\n",
       "size: (16, 1)\n",
       "sign: real\n",
       "vexity: affine\n",
       "id: 131…674"
      ]
     },
     "metadata": {},
     "output_type": "display_data"
    }
   ],
   "source": [
    "num_classes = length(class_names)\n",
    "choices = Variable(num_classes)"
   ]
  },
  {
   "cell_type": "code",
   "execution_count": 45,
   "id": "87bf514a",
   "metadata": {},
   "outputs": [],
   "source": [
    "ratings = [\n",
    "  1,\n",
    "  0,\n",
    "  0.5,\n",
    "  0.25,\n",
    "  0.01,\n",
    "  1,\n",
    "  0,\n",
    "  0,\n",
    "  1,\n",
    "  0.5,\n",
    "  0.49,\n",
    "  0,\n",
    "  0,\n",
    "  1,\n",
    "  0,\n",
    "  0\n",
    "];"
   ]
  },
  {
   "cell_type": "code",
   "execution_count": 46,
   "id": "982b7d63",
   "metadata": {},
   "outputs": [
    {
     "data": {
      "text/plain": [
       "+ (affine; real)\n",
       "├─ * (affine; real)\n",
       "│  ├─ 1×16 adjoint(::Vector{Float64}) with eltype Float64\n",
       "│  └─ 16-element real variable (id: 131…674)\n",
       "└─ * (affine; real)\n",
       "   ├─ 1×16 adjoint(::Vector{Float64}) with eltype Float64\n",
       "   └─ 16-element real variable (id: 131…674)"
      ]
     },
     "metadata": {},
     "output_type": "display_data"
    }
   ],
   "source": [
    "# general 1 unit per class\n",
    "class_units = ones(num_classes)\n",
    "obj = - ratings'*choices + class_units'*choices"
   ]
  },
  {
   "cell_type": "code",
   "execution_count": 55,
   "id": "abcdc249",
   "metadata": {},
   "outputs": [
    {
     "data": {
      "text/plain": [
       "25-element Vector{Constraint}:\n",
       " >= constraint (affine)\n",
       "├─ 16-element real variable (id: 131…674)\n",
       "└─ 0\n",
       " <= constraint (affine)\n",
       "├─ 16-element real variable (id: 131…674)\n",
       "└─ 1\n",
       " <= constraint (affine)\n",
       "├─ sum (affine; real)\n",
       "│  └─ 16-element real variable (id: 131…674)\n",
       "└─ 5\n",
       " >= constraint (affine)\n",
       "├─ sum (affine; real)\n",
       "│  └─ 16-element real variable (id: 131…674)\n",
       "└─ 2\n",
       " == constraint (affine)\n",
       "├─ index (affine; real)\n",
       "│  └─ 16-element real variable (id: 131…674)\n",
       "└─ 0\n",
       " == constraint (affine)\n",
       "├─ index (affine; real)\n",
       "│  └─ 16-element real variable (id: 131…674)\n",
       "└─ 0\n",
       " == constraint (affine)\n",
       "├─ index (affine; real)\n",
       "│  └─ 16-element real variable (id: 131…674)\n",
       "└─ 0\n",
       " == constraint (affine)\n",
       "├─ index (affine; real)\n",
       "│  └─ 16-element real variable (id: 131…674)\n",
       "└─ 0\n",
       " == constraint (affine)\n",
       "├─ index (affine; real)\n",
       "│  └─ 16-element real variable (id: 131…674)\n",
       "└─ 0\n",
       " == constraint (affine)\n",
       "├─ index (affine; real)\n",
       "│  └─ 16-element real variable (id: 131…674)\n",
       "└─ 0\n",
       " ⋮\n",
       " == constraint (affine)\n",
       "├─ index (affine; real)\n",
       "│  └─ 16-element real variable (id: 131…674)\n",
       "└─ 0\n",
       " == constraint (affine)\n",
       "├─ index (affine; real)\n",
       "│  └─ 16-element real variable (id: 131…674)\n",
       "└─ 0\n",
       " == constraint (affine)\n",
       "├─ index (affine; real)\n",
       "│  └─ 16-element real variable (id: 131…674)\n",
       "└─ 0\n",
       " == constraint (affine)\n",
       "├─ index (affine; real)\n",
       "│  └─ 16-element real variable (id: 131…674)\n",
       "└─ 0\n",
       " >= constraint (affine)\n",
       "├─ + (affine; real)\n",
       "│  ├─ 0\n",
       "│  └─ index (affine; real)\n",
       "│     └─ 16-element real variable (id: 131…674)\n",
       "└─ 1\n",
       " >= constraint (affine)\n",
       "├─ + (affine; real)\n",
       "│  ├─ 0\n",
       "│  └─ index (affine; real)\n",
       "│     └─ 16-element real variable (id: 131…674)\n",
       "└─ 1\n",
       " >= constraint (affine)\n",
       "├─ + (affine; real)\n",
       "│  ├─ 0\n",
       "│  ├─ index (affine; real)\n",
       "│  │  └─ 16-element real variable (id: 131…674)\n",
       "│  └─ index (affine; real)\n",
       "│     └─ 16-element real variable (id: 131…674)\n",
       "└─ 0\n",
       " >= constraint (affine)\n",
       "├─ + (affine; real)\n",
       "│  ├─ 0\n",
       "│  ├─ index (affine; real)\n",
       "│  │  └─ 16-element real variable (id: 131…674)\n",
       "│  ├─ index (affine; real)\n",
       "│  │  └─ 16-element real variable (id: 131…674)\n",
       "│  ├─ index (affine; real)\n",
       "│  │  └─ 16-element real variable (id: 131…674)\n",
       "│  └─ index (affine; real)\n",
       "│     └─ 16-element real variable (id: 131…674)\n",
       "└─ 1\n",
       " >= constraint (affine)\n",
       "├─ + (affine; real)\n",
       "│  ├─ 0\n",
       "│  ├─ index (affine; real)\n",
       "│  │  └─ 16-element real variable (id: 131…674)\n",
       "│  └─ index (affine; real)\n",
       "│     └─ 16-element real variable (id: 131…674)\n",
       "└─ 1"
      ]
     },
     "metadata": {},
     "output_type": "display_data"
    }
   ],
   "source": [
    "# max units allowed (set arbitrarily)\n",
    "max_units = sum([j for (i, j) in remaining_requirements]) + 1\n",
    "min_units = 2\n",
    "\n",
    "consts = [\n",
    "  #relaxation of binary choice\n",
    "  choices >= 0,\n",
    "  choices <= 1,\n",
    "  # max units\n",
    "  sum(choices) <= max_units,\n",
    "  # min units\n",
    "  sum(choices) >= min_units,\n",
    "]\n",
    "\n",
    "# classes already taken cannot be taken again\n",
    "for (class, done) in enumerate(taken)\n",
    "  consts += choices[class] == 0\n",
    "end\n",
    "\n",
    "# class requirements\n",
    "for (classes, req) in remaining_requirements\n",
    "  req_choices = 0\n",
    "  for class in classes\n",
    "    req_choices += choices[class]\n",
    "  end\n",
    "  consts += req_choices >= req\n",
    "end\n",
    "\n",
    "consts"
   ]
  },
  {
   "cell_type": "code",
   "execution_count": 56,
   "id": "f77792fc",
   "metadata": {},
   "outputs": [
    {
     "name": "stdout",
     "output_type": "stream",
     "text": [
      "------------------------------------------------------------------\n",
      "\t       SCS v3.2.1 - Splitting Conic Solver\n",
      "\t(c) Brendan O'Donoghue, Stanford University, 2012\n",
      "------------------------------------------------------------------\n",
      "problem:  variables n: 17, constraints m: 56\n",
      "cones: \t  z: primal zero / dual free vars: 17\n",
      "\t  l: linear vars: 39\n",
      "settings: eps_abs: 1.0e-04, eps_rel: 1.0e-04, eps_infeas: 1.0e-07\n",
      "\t  alpha: 1.50, scale: 1.00e-01, adaptive_scale: 1\n",
      "\t  max_iters: 100000, normalize: 1, rho_x: 1.00e-06\n",
      "\t  acceleration_lookback: 10, acceleration_interval: 10\n",
      "lin-sys:  sparse-direct-amd-qdldl\n",
      "\t  nnz(A): 103, nnz(P): 0\n",
      "------------------------------------------------------------------\n",
      " iter | pri res | dua res |   gap   |   obj   |  scale  | time (s)\n",
      "------------------------------------------------------------------\n",
      "     0| 5.00e+00  1.00e+00  1.04e+00  3.32e-01  1.00e-01  9.27e-05 \n",
      "    50| 5.13e+06  3.90e+05  2.12e+19  1.06e+19  1.00e-01  1.65e-04 \n",
      "------------------------------------------------------------------\n",
      "status:  infeasible\n",
      "timings: total: 1.66e-04s = setup: 7.78e-05s + solve: 8.81e-05s\n",
      "\t lin-sys: 4.37e-05s, cones: 4.06e-06s, accel: 1.95e-06s\n",
      "------------------------------------------------------------------\n",
      "objective = inf\n",
      "------------------------------------------------------------------\n"
     ]
    },
    {
     "name": "stderr",
     "output_type": "stream",
     "text": [
      "┌ Warning: Problem status INFEASIBLE; solution may be inaccurate.\n",
      "└ @ Convex /Users/timkostolansky/.julia/packages/Convex/ukggP/src/solution.jl:342\n"
     ]
    }
   ],
   "source": [
    "problem = minimize(obj, consts)\n",
    "solve!(problem, SCS.Optimizer())"
   ]
  },
  {
   "cell_type": "code",
   "execution_count": null,
   "id": "4a1f6302",
   "metadata": {},
   "outputs": [],
   "source": []
  }
 ],
 "metadata": {
  "@webio": {
   "lastCommId": null,
   "lastKernelId": null
  },
  "kernelspec": {
   "display_name": "Julia 1.8.2",
   "language": "julia",
   "name": "julia-1.8"
  },
  "language_info": {
   "file_extension": ".jl",
   "mimetype": "application/julia",
   "name": "julia",
   "version": "1.8.2"
  },
  "vscode": {
   "interpreter": {
    "hash": "c5aa85ade289060635948af45a9905824f20b38e55a194f2ec4c4982c704c885"
   }
  }
 },
 "nbformat": 4,
 "nbformat_minor": 5
}
