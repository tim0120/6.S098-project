{
 "cells": [
  {
   "cell_type": "code",
   "execution_count": 19,
   "id": "92b8f888",
   "metadata": {},
   "outputs": [
    {
     "name": "stderr",
     "output_type": "stream",
     "text": [
      "\u001b[32m\u001b[1m  Activating\u001b[22m\u001b[39m project at `~/Convex_Opt`\n"
     ]
    },
    {
     "data": {
      "text/plain": [
       "7-element Vector{Float64}:\n",
       " 3.331652593494267\n",
       " 1.3446507456196781\n",
       " 1.4443267805526894\n",
       " 4.017412761364381\n",
       " 1.8928162640968693\n",
       " 0.8082266400792559\n",
       " 0.3316540569330001"
      ]
     },
     "execution_count": 19,
     "metadata": {},
     "output_type": "execute_result"
    }
   ],
   "source": [
    "using Pkg; Pkg.activate(\".\");\n",
    "using Convex\n",
    "using SCS\n",
    "c = 5*rand(7)"
   ]
  },
  {
   "cell_type": "code",
   "execution_count": 46,
   "id": "8e688959",
   "metadata": {
    "scrolled": true
   },
   "outputs": [
    {
     "name": "stdout",
     "output_type": "stream",
     "text": [
      "[12.741358894957362;;]------------------------------------------------------------------\n",
      "\t       SCS v3.2.1 - Splitting Conic Solver\n",
      "\t(c) Brendan O'Donoghue, Stanford University, 2012\n",
      "------------------------------------------------------------------\n",
      "problem:  variables n: 8, constraints m: 16\n",
      "cones: \t  z: primal zero / dual free vars: 1\n",
      "\t  l: linear vars: 15\n",
      "settings: eps_abs: 1.0e-04, eps_rel: 1.0e-04, eps_infeas: 1.0e-07\n",
      "\t  alpha: 1.50, scale: 1.00e-01, adaptive_scale: 1\n",
      "\t  max_iters: 100000, normalize: 1, rho_x: 1.00e-06\n",
      "\t  acceleration_lookback: 10, acceleration_interval: 10\n",
      "lin-sys:  sparse-direct-amd-qdldl\n",
      "\t  nnz(A): 29, nnz(P): 0\n",
      "------------------------------------------------------------------\n",
      " iter | pri res | dua res |   gap   |   obj   |  scale  | time (s)\n",
      "------------------------------------------------------------------\n",
      "     0| 4.67e+01  2.95e+00  1.25e+02 -8.15e+01  1.00e-01  8.19e-05 \n",
      "    50| 2.65e-05  4.82e-05  3.52e-07 -1.27e+01  1.00e-01  1.30e-04 \n",
      "------------------------------------------------------------------\n",
      "status:  solved\n",
      "timings: total: 1.32e-04s = setup: 6.47e-05s + solve: 6.71e-05s\n",
      "\t lin-sys: 1.99e-05s, cones: 5.40e-06s, accel: 2.86e-06s\n",
      "------------------------------------------------------------------\n",
      "objective = -12.741359\n",
      "------------------------------------------------------------------\n"
     ]
    },
    {
     "data": {
      "text/plain": [
       "7×1 Matrix{Float64}:\n",
       "  1.0000126509186666\n",
       " -6.319427376440264e-7\n",
       "  0.9999932684538899\n",
       "  0.99999571257118\n",
       " -2.648922244543348e-5\n",
       "  1.6198350224925764e-5\n",
       "  0.9999974683251368"
      ]
     },
     "execution_count": 46,
     "metadata": {},
     "output_type": "execute_result"
    }
   ],
   "source": [
    "c = 5*rand(7)\n",
    "\n",
    "x = Variable(7)\n",
    "objective = c'*x\n",
    "\n",
    "cons = [\n",
    "    ones(7)'*x <= 4,\n",
    "    x >= 0,\n",
    "    x <= 1\n",
    "]\n",
    "\n",
    "\n",
    "\n",
    "optimization = maximize(objective, cons)\n",
    "solve!(optimization, SCS.Optimizer())\n",
    "res = x.value\n",
    "print(c'*res)\n",
    "\n",
    "res\n",
    "\n",
    "\n",
    "\n"
   ]
  },
  {
   "cell_type": "code",
   "execution_count": 51,
   "id": "35f57327",
   "metadata": {},
   "outputs": [
    {
     "data": {
      "text/plain": [
       "Dict{Any, Any} with 8 entries:\n",
       "  5 => 1\n",
       "  4 => 1\n",
       "  6 => 0\n",
       "  7 => 1\n",
       "  2 => 0\n",
       "  8 => 1\n",
       "  3 => 0\n",
       "  1 => 0"
      ]
     },
     "execution_count": 51,
     "metadata": {},
     "output_type": "execute_result"
    }
   ],
   "source": [
    "###Trial\n",
    "class_numbers = Dict(\"6.006\"=>1, \"6.042\"=>2, \"6.009\"=>3, \"6.046\"=>4, \"6.031\"=>5, \"18.600\"=>6, \"6.041\"=>7,\n",
    "\"6.008\"=>8, \"comp_bio\"=>9, \"NLP\"=>10, \"comp_vision\"=>11, \"graphics\"=>12, \"optimization\"=>13, \n",
    "    \"script_analysis\"=>14, \"intro_to_acting\"=>15, \"psych\"=>16)\n",
    "\n",
    "taken = [1 1 1 0 0 1 0 0 0 0 0 1 0 0 0 1]\n",
    "\n",
    "requirements = [([1], 1), ([2], 1), ([3], 1), ([4], 1), ([5], 1), ([6, 7, 8], 1), ([9, 10, 11, 12, 13], 2), \n",
    "    ([14, 15, 16], 2)]\n",
    "\n",
    "remaining_reqs = Dict()\n",
    "\n",
    "for (ind, req) in enumerate(requirements)\n",
    "    remaining = req[2]\n",
    "    for class in req[1]\n",
    "        if taken[class] == 1\n",
    "            remaining -= 1\n",
    "            if remaining == 0\n",
    "                break\n",
    "            end\n",
    "            \n",
    "        end\n",
    "        \n",
    "    end\n",
    "    remaining_reqs[ind] = remaining\n",
    "end\n",
    "\n",
    "remaining_reqs\n",
    "\n",
    "\n",
    "\n"
   ]
  },
  {
   "cell_type": "code",
   "execution_count": 74,
   "id": "5486d2c1",
   "metadata": {
    "scrolled": true
   },
   "outputs": [
    {
     "data": {
      "text/plain": [
       "16-element Vector{Float64}:\n",
       " 0.22327455170845734\n",
       " 5.366756156813789\n",
       " 6.762908504954667\n",
       " 3.5083544600567538\n",
       " 1.3921499506438069\n",
       " 1.0675555929509664\n",
       " 0.5746663757775152\n",
       " 1.5578789431072044\n",
       " 5.7001686412239145\n",
       " 1.5519382798232437\n",
       " 6.782202747045394\n",
       " 3.918740563557935\n",
       " 4.365468714002073\n",
       " 4.4510527478151465\n",
       " 5.304203136247391\n",
       " 1.0498175474957545"
      ]
     },
     "execution_count": 74,
     "metadata": {},
     "output_type": "execute_result"
    }
   ],
   "source": [
    "c = 7*rand(16)\n",
    "time_vec = 7*ones(16) + 7*rand(16)\n",
    "c"
   ]
  },
  {
   "cell_type": "code",
   "execution_count": 75,
   "id": "29802fc3",
   "metadata": {},
   "outputs": [
    {
     "name": "stdout",
     "output_type": "stream",
     "text": [
      "[20.307698177221248;;]------------------------------------------------------------------\n",
      "\t       SCS v3.2.1 - Splitting Conic Solver\n",
      "\t(c) Brendan O'Donoghue, Stanford University, 2012\n",
      "------------------------------------------------------------------\n",
      "problem:  variables n: 17, constraints m: 48\n",
      "cones: \t  z: primal zero / dual free vars: 7\n",
      "\t  l: linear vars: 41\n",
      "settings: eps_abs: 1.0e-04, eps_rel: 1.0e-04, eps_infeas: 1.0e-07\n",
      "\t  alpha: 1.50, scale: 1.00e-01, adaptive_scale: 1\n",
      "\t  max_iters: 100000, normalize: 1, rho_x: 1.00e-06\n",
      "\t  acceleration_lookback: 10, acceleration_interval: 10\n",
      "lin-sys:  sparse-direct-amd-qdldl\n",
      "\t  nnz(A): 87, nnz(P): 0\n",
      "------------------------------------------------------------------\n",
      " iter | pri res | dua res |   gap   |   obj   |  scale  | time (s)\n",
      "------------------------------------------------------------------\n",
      "     0| 1.93e+02  7.65e+00  8.38e+01 -6.29e+01  1.00e-01  1.23e-04 \n",
      "   200| 1.19e-03  1.48e-04  1.15e-03 -2.03e+01  1.00e-01  5.53e-04 \n",
      "------------------------------------------------------------------\n",
      "status:  solved\n",
      "timings: total: 5.55e-04s = setup: 1.02e-04s + solve: 4.53e-04s\n",
      "\t lin-sys: 1.97e-04s, cones: 3.47e-05s, accel: 3.01e-05s\n",
      "------------------------------------------------------------------\n",
      "objective = -20.308276\n",
      "------------------------------------------------------------------\n"
     ]
    },
    {
     "data": {
      "text/plain": [
       "16×1 Matrix{Float64}:\n",
       " 2.887436872336651e-8\n",
       " 6.332203407334908e-8\n",
       " 4.577526683621046e-8\n",
       " 1.0000247624346064\n",
       " 1.0000180005704848\n",
       " 1.4511822939629311e-8\n",
       " 1.391093402919218e-5\n",
       " 1.631641131747948e-5\n",
       " 0.5824455804005116\n",
       " 2.9576215988435544e-5\n",
       " 1.0000357054093263\n",
       " 3.6044004344138584e-8\n",
       " 2.8743155269800956e-5\n",
       " 1.9488150763796928e-5\n",
       " 1.0000194935717865\n",
       " 9.716792512448966e-9"
      ]
     },
     "execution_count": 75,
     "metadata": {},
     "output_type": "execute_result"
    }
   ],
   "source": [
    "x = Variable(16)\n",
    "objective = c'*x\n",
    "t = 50\n",
    "constr = [\n",
    "    x >= 0,\n",
    "    x <= 1,\n",
    "    time_vec'*x <= t\n",
    "    \n",
    "]\n",
    "for (class, status) in enumerate(taken)\n",
    "    \n",
    "    if status == 1\n",
    "        \n",
    "        push!(constr, (x[class] == 0))    \n",
    "    end   \n",
    "end\n",
    "\n",
    "\n",
    "for (ind, req) in enumerate(requirements)\n",
    "    length = size(req[1])[1]\n",
    "    \n",
    "    req_array = Array{Convex.AbstractExpr}(undef, length)\n",
    "    for i in 1:length[1]\n",
    "        req_array[i] = x[req[1][i]]\n",
    "        \n",
    "    end\n",
    "    push!(constr, (sum(req_array) >= remaining_reqs[ind]))\n",
    "end\n",
    "\n",
    "\n",
    "optimization = maximize(objective, constr)\n",
    "solve!(optimization, SCS.Optimizer())\n",
    "res = x.value\n",
    "print(c'*res)\n",
    "\n",
    "res\n",
    "\n",
    "\n",
    "\n"
   ]
  },
  {
   "cell_type": "code",
   "execution_count": 76,
   "id": "b89d1ccb",
   "metadata": {},
   "outputs": [
    {
     "data": {
      "text/plain": [
       "16×1 Matrix{Float64}:\n",
       " 0.0\n",
       " 0.0\n",
       " 0.0\n",
       " 1.0\n",
       " 1.0\n",
       " 0.0\n",
       " 0.0\n",
       " 0.0\n",
       " 1.0\n",
       " 0.0\n",
       " 1.0\n",
       " 0.0\n",
       " 0.0\n",
       " 0.0\n",
       " 1.0\n",
       " 0.0"
      ]
     },
     "execution_count": 76,
     "metadata": {},
     "output_type": "execute_result"
    }
   ],
   "source": [
    "final_vector = round.(res, digits = 0)"
   ]
  },
  {
   "cell_type": "code",
   "execution_count": 77,
   "id": "b0ed6748",
   "metadata": {},
   "outputs": [
    {
     "data": {
      "text/plain": [
       "54.60584579911304"
      ]
     },
     "execution_count": 77,
     "metadata": {},
     "output_type": "execute_result"
    }
   ],
   "source": [
    "time_vec[4] + time_vec[5] + time_vec[9] + time_vec[11] + time_vec[15]"
   ]
  },
  {
   "cell_type": "code",
   "execution_count": 78,
   "id": "7e9b9503",
   "metadata": {},
   "outputs": [
    {
     "data": {
      "text/plain": [
       "1×1 adjoint(::Vector{Float64}) with eltype Float64:\n",
       " 49.998805938308834"
      ]
     },
     "execution_count": 78,
     "metadata": {},
     "output_type": "execute_result"
    }
   ],
   "source": [
    "time_vec'*res"
   ]
  },
  {
   "cell_type": "code",
   "execution_count": null,
   "id": "22097e09",
   "metadata": {},
   "outputs": [],
   "source": []
  }
 ],
 "metadata": {
  "kernelspec": {
   "display_name": "Julia 1.8.2",
   "language": "julia",
   "name": "julia-1.8"
  },
  "language_info": {
   "file_extension": ".jl",
   "mimetype": "application/julia",
   "name": "julia",
   "version": "1.8.2"
  }
 },
 "nbformat": 4,
 "nbformat_minor": 5
}
