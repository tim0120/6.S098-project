{
 "cells": [
  {
   "cell_type": "code",
   "execution_count": 4,
   "id": "92b8f888",
   "metadata": {},
   "outputs": [
    {
     "name": "stderr",
     "output_type": "stream",
     "text": [
      "\u001b[32m\u001b[1m  Activating\u001b[22m\u001b[39m new project at `~/Convex_Opt/6.S098-project`\n"
     ]
    },
    {
     "data": {
      "text/plain": [
       "7-element Vector{Float64}:\n",
       " 3.7049990645092103\n",
       " 3.9830928127219307\n",
       " 1.9493424287429613\n",
       " 1.2289982600147402\n",
       " 0.8028347571174799\n",
       " 4.220466418355666\n",
       " 4.677294408903271"
      ]
     },
     "execution_count": 4,
     "metadata": {},
     "output_type": "execute_result"
    }
   ],
   "source": [
    "using Pkg; Pkg.activate(\".\");\n",
    "using Convex\n",
    "using SCS\n",
    "c = 5*rand(7)"
   ]
  },
  {
   "cell_type": "code",
   "execution_count": 4,
   "id": "8e688959",
   "metadata": {
    "scrolled": true
   },
   "outputs": [
    {
     "name": "stdout",
     "output_type": "stream",
     "text": [
      "[12.234156867844309;;]------------------------------------------------------------------\n",
      "\t       SCS v3.2.1 - Splitting Conic Solver\n",
      "\t(c) Brendan O'Donoghue, Stanford University, 2012\n",
      "------------------------------------------------------------------\n",
      "problem:  variables n: 8, constraints m: 16\n",
      "cones: \t  z: primal zero / dual free vars: 1\n",
      "\t  l: linear vars: 15\n",
      "settings: eps_abs: 1.0e-04, eps_rel: 1.0e-04, eps_infeas: 1.0e-07\n",
      "\t  alpha: 1.50, scale: 1.00e-01, adaptive_scale: 1\n",
      "\t  max_iters: 100000, normalize: 1, rho_x: 1.00e-06\n",
      "\t  acceleration_lookback: 10, acceleration_interval: 10\n",
      "lin-sys:  sparse-direct-amd-qdldl\n",
      "\t  nnz(A): 29, nnz(P): 0\n",
      "------------------------------------------------------------------\n",
      " iter | pri res | dua res |   gap   |   obj   |  scale  | time (s)\n",
      "------------------------------------------------------------------\n",
      "     0| 4.00e+01  4.37e+00  1.12e+02 -7.07e+01  1.00e-01  1.98e-03 \n",
      "    50| 9.69e-05  6.55e-06  2.45e-06 -1.22e+01  1.00e-01  2.03e-03 \n",
      "------------------------------------------------------------------\n",
      "status:  solved\n",
      "timings: total: 2.03e-03s = setup: 1.94e-03s + solve: 9.57e-05s\n",
      "\t lin-sys: 2.22e-05s, cones: 7.94e-06s, accel: 2.33e-06s\n",
      "------------------------------------------------------------------\n",
      "objective = -12.234158\n",
      "------------------------------------------------------------------\n"
     ]
    },
    {
     "data": {
      "text/plain": [
       "7×1 Matrix{Float64}:\n",
       "  9.6878600669219e-5\n",
       "  0.9999921697655961\n",
       "  1.000002147569336\n",
       "  4.495997615960186e-6\n",
       " -3.82716739263455e-5\n",
       "  0.9999719740161574\n",
       "  0.9999719321672004"
      ]
     },
     "execution_count": 4,
     "metadata": {},
     "output_type": "execute_result"
    }
   ],
   "source": [
    "c = 5*rand(7)\n",
    "\n",
    "x = Variable(7)\n",
    "objective = c'*x\n",
    "\n",
    "cons = [\n",
    "    ones(7)'*x <= 4,\n",
    "    x >= 0,\n",
    "    x <= 1\n",
    "]\n",
    "\n",
    "\n",
    "\n",
    "optimization = maximize(objective, cons)\n",
    "solve!(optimization, SCS.Optimizer())\n",
    "res = x.value\n",
    "print(c'*res)\n",
    "\n",
    "res\n",
    "\n",
    "\n",
    "\n"
   ]
  },
  {
   "cell_type": "code",
   "execution_count": 10,
   "id": "35f57327",
   "metadata": {},
   "outputs": [
    {
     "data": {
      "text/plain": [
       "Dict{Any, Any} with 8 entries:\n",
       "  5 => 1\n",
       "  4 => 1\n",
       "  6 => 0\n",
       "  7 => 2\n",
       "  2 => 0\n",
       "  8 => 2\n",
       "  3 => 1\n",
       "  1 => 0"
      ]
     },
     "execution_count": 10,
     "metadata": {},
     "output_type": "execute_result"
    }
   ],
   "source": [
    "###Trial\n",
    "class_numbers = Dict(\"6.006\"=>1, \"6.042\"=>2, \"6.009\"=>3, \"6.046\"=>4, \"6.031\"=>5, \"18.600\"=>6, \"6.041\"=>7,\n",
    "\"6.008\"=>8, \"comp_bio\"=>9, \"NLP\"=>10, \"comp_vision\"=>11, \"graphics\"=>12, \"optimization\"=>13, \n",
    "    \"script_analysis\"=>14, \"intro_to_acting\"=>15, \"psych\"=>16)\n",
    "\n",
    "#TODO: EXPAND TO 3 SEM LEFT, GET EXAMPLES THAT ARE INFEASIBLE AND PLAY WITH PENALTY LAMBDA\n",
    "\n",
    "#THIS TAKEN WITH 50 HR CONSTRAINT IS INFEASIBLE\n",
    "taken = [1 1 0 0 0 1 0 0 0 0 0 0 0 0 0 0]\n",
    "\n",
    "requirements = [([1], 1), ([2], 1), ([3], 1), ([4], 1), ([5], 1), ([6, 7, 8], 1), ([9, 10, 11, 12, 13], 2), \n",
    "    ([14, 15, 16], 2)]\n",
    "\n",
    "remaining_reqs = Dict()\n",
    "\n",
    "for (ind, req) in enumerate(requirements)\n",
    "    remaining = req[2]\n",
    "    for class in req[1]\n",
    "        if taken[class] == 1\n",
    "            remaining -= 1\n",
    "            if remaining == 0\n",
    "                break\n",
    "            end\n",
    "            \n",
    "        end\n",
    "        \n",
    "    end\n",
    "    remaining_reqs[ind] = remaining\n",
    "end\n",
    "\n",
    "remaining_reqs\n",
    "\n",
    "\n",
    "\n"
   ]
  },
  {
   "cell_type": "code",
   "execution_count": 13,
   "id": "5486d2c1",
   "metadata": {
    "scrolled": true
   },
   "outputs": [
    {
     "data": {
      "text/plain": [
       "16-element Vector{Float64}:\n",
       " 1.1346630484277376\n",
       " 6.767848071180939\n",
       " 6.195504950689403\n",
       " 1.094820691597862\n",
       " 0.738777330623374\n",
       " 3.28325569570889\n",
       " 3.857255914650558\n",
       " 4.463000565589705\n",
       " 5.971209186206194\n",
       " 0.04041376305274802\n",
       " 5.992987678483452\n",
       " 5.61490864894082\n",
       " 6.2083155222320014\n",
       " 5.104620764595033\n",
       " 3.2901542452686146\n",
       " 0.9042647381711935"
      ]
     },
     "execution_count": 13,
     "metadata": {},
     "output_type": "execute_result"
    }
   ],
   "source": [
    "c = 7*rand(16)\n",
    "time_vec = 7*ones(16) + 7*rand(16)\n",
    "c"
   ]
  },
  {
   "cell_type": "code",
   "execution_count": 14,
   "id": "29802fc3",
   "metadata": {},
   "outputs": [
    {
     "name": "stdout",
     "output_type": "stream",
     "text": [
      "[NaN;;]------------------------------------------------------------------\n",
      "\t       SCS v3.2.1 - Splitting Conic Solver\n",
      "\t(c) Brendan O'Donoghue, Stanford University, 2012\n",
      "------------------------------------------------------------------\n",
      "problem:  variables n: 17, constraints m: 45\n",
      "cones: \t  z: primal zero / dual free vars: 4\n",
      "\t  l: linear vars: 41\n",
      "settings: eps_abs: 1.0e-04, eps_rel: 1.0e-04, eps_infeas: 1.0e-07\n",
      "\t  alpha: 1.50, scale: 1.00e-01, adaptive_scale: 1\n",
      "\t  max_iters: 100000, normalize: 1, rho_x: 1.00e-06\n",
      "\t  acceleration_lookback: 10, acceleration_interval: 10\n",
      "lin-sys:  sparse-direct-amd-qdldl\n",
      "\t  nnz(A): 84, nnz(P): 0\n",
      "------------------------------------------------------------------\n",
      " iter | pri res | dua res |   gap   |   obj   |  scale  | time (s)\n",
      "------------------------------------------------------------------\n",
      "     0| 1.03e+02  4.27e+00  8.31e+01 -4.71e+01  1.00e-01  1.35e-04 \n",
      "    75| 9.51e+11  1.34e+10  5.71e+19  2.86e+19  1.00e-01  2.69e-04 \n",
      "------------------------------------------------------------------\n",
      "status:  infeasible\n",
      "timings: total: 2.70e-04s = setup: 1.12e-04s + solve: 1.59e-04s\n",
      "\t lin-sys: 7.17e-05s, cones: 1.32e-05s, accel: 4.75e-06s\n",
      "------------------------------------------------------------------\n",
      "objective = inf\n",
      "------------------------------------------------------------------\n"
     ]
    },
    {
     "name": "stderr",
     "output_type": "stream",
     "text": [
      "┌ Warning: Problem status INFEASIBLE; solution may be inaccurate.\n",
      "└ @ Convex /Users/andrewhutchison/.julia/packages/Convex/ukggP/src/solution.jl:342\n"
     ]
    },
    {
     "data": {
      "text/plain": [
       "16×1 Matrix{Float64}:\n",
       " NaN\n",
       " NaN\n",
       " NaN\n",
       " NaN\n",
       " NaN\n",
       " NaN\n",
       " NaN\n",
       " NaN\n",
       " NaN\n",
       " NaN\n",
       " NaN\n",
       " NaN\n",
       " NaN\n",
       " NaN\n",
       " NaN\n",
       " NaN"
      ]
     },
     "execution_count": 14,
     "metadata": {},
     "output_type": "execute_result"
    }
   ],
   "source": [
    "x = Variable(16)\n",
    "objective = c'*x - 3*sum(x)\n",
    "t = 50\n",
    "constr = [\n",
    "    x >= 0,\n",
    "    x <= 1,\n",
    "    time_vec'*x <= t\n",
    "    \n",
    "]\n",
    "for (class, status) in enumerate(taken)\n",
    "    \n",
    "    if status == 1\n",
    "        \n",
    "        push!(constr, (x[class] == 0))    \n",
    "    end   \n",
    "end\n",
    "\n",
    "\n",
    "for (ind, req) in enumerate(requirements)\n",
    "    length = size(req[1])[1]\n",
    "    \n",
    "    req_array = Array{Convex.AbstractExpr}(undef, length)\n",
    "    for i in 1:length[1]\n",
    "        req_array[i] = x[req[1][i]]\n",
    "        \n",
    "    end\n",
    "    push!(constr, (sum(req_array) >= remaining_reqs[ind]))\n",
    "end\n",
    "\n",
    "\n",
    "optimization = maximize(objective, constr)\n",
    "solve!(optimization, SCS.Optimizer())\n",
    "res = x.value\n",
    "print(c'*res)\n",
    "\n",
    "res\n",
    "\n",
    "\n",
    "\n"
   ]
  },
  {
   "cell_type": "code",
   "execution_count": 14,
   "id": "b89d1ccb",
   "metadata": {},
   "outputs": [
    {
     "data": {
      "text/plain": [
       "16×1 Matrix{Float64}:\n",
       "  0.0\n",
       " -0.0\n",
       "  0.0\n",
       "  1.0\n",
       "  1.0\n",
       " -0.0\n",
       "  1.0\n",
       " -0.0\n",
       "  1.0\n",
       "  1.0\n",
       "  1.0\n",
       " -0.0\n",
       "  1.0\n",
       " -0.0\n",
       "  1.0\n",
       " -0.0"
      ]
     },
     "execution_count": 14,
     "metadata": {},
     "output_type": "execute_result"
    }
   ],
   "source": [
    "final_vector = round.(res, digits = 3)"
   ]
  },
  {
   "cell_type": "code",
   "execution_count": 77,
   "id": "b0ed6748",
   "metadata": {},
   "outputs": [
    {
     "data": {
      "text/plain": [
       "54.60584579911304"
      ]
     },
     "execution_count": 77,
     "metadata": {},
     "output_type": "execute_result"
    }
   ],
   "source": [
    "time_vec[4] + time_vec[5] + time_vec[9] + time_vec[11] + time_vec[15]"
   ]
  },
  {
   "cell_type": "code",
   "execution_count": 78,
   "id": "7e9b9503",
   "metadata": {},
   "outputs": [
    {
     "data": {
      "text/plain": [
       "1×1 adjoint(::Vector{Float64}) with eltype Float64:\n",
       " 49.998805938308834"
      ]
     },
     "execution_count": 78,
     "metadata": {},
     "output_type": "execute_result"
    }
   ],
   "source": [
    "time_vec'*res"
   ]
  },
  {
   "cell_type": "code",
   "execution_count": null,
   "id": "22097e09",
   "metadata": {},
   "outputs": [],
   "source": []
  }
 ],
 "metadata": {
  "kernelspec": {
   "display_name": "Julia 1.8.2",
   "language": "julia",
   "name": "julia-1.8"
  },
  "language_info": {
   "file_extension": ".jl",
   "mimetype": "application/julia",
   "name": "julia",
   "version": "1.8.2"
  }
 },
 "nbformat": 4,
 "nbformat_minor": 5
}
